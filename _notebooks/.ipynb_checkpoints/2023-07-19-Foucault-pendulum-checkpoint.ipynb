{
 "cells": [
  {
   "cell_type": "raw",
   "id": "aa0657e0",
   "metadata": {},
   "source": []
  },
  {
   "cell_type": "markdown",
   "id": "2fd5518f",
   "metadata": {},
   "source": [
    "# Foucault's pendulum\n",
    "\n",
    "Invented by Leon Foucault in 1851, it demonstrates that the Earth has a rotation axis. The pendulum has a bob suspended by a wire that can only apply a tensile force $\\vec{\\mathbf{T}}$. An additional force due to gravity $\\vec{\\mathbf{F}}_\\mathrm{g}$ acts on the bob."
   ]
  },
  {
   "cell_type": "markdown",
   "id": "a5bfebe2",
   "metadata": {},
   "source": [
    "## Inertial frame\n",
    "\n",
    "In an inertial frame $F_\\mathrm{A}$ fixed at the centre of earth, the pendulum is located at the surface of the earth given by the coordinates $\\vec{\\mathbf{R}}= R_0 \\hat{ \\mathbf{R}} + \\Theta_0\\hat{\\mathbf{\\Theta}} + \\Phi_0 \\hat{\\mathbf{\\Phi}}$, where $R_0$ is the radius of the Earth, $(\\Theta_0, \\Phi_0)$ is the polar latitude and longitude, $(\\hat{\\mathbf{R}}, \\hat{\\mathbf{\\Theta}}, \\hat{\\mathbf{\\Phi}}) $ is the spherical polar coordinates. The angular velocity of the earth is $\\vec{\\mathbf{\\Omega}} = \\Omega_0 \\hat{\\mathbf{R}}(\\Theta_0=0)$, where $\\Omega_0$ is the angular speed.\n"
   ]
  },
  {
   "cell_type": "markdown",
   "id": "81ece301",
   "metadata": {},
   "source": [
    "## Equation of motion\n",
    "\n",
    "In frame $F_\\mathrm{A}$, therefore, there are two forces acting on the bob with mass $m$. Hence the net force $\\vec{\\mathbf{F}}_\\mathrm{A}$ is given by\n",
    "\n",
    "$$\n",
    "\\vec{\\mathbf{F}}_\\mathrm{A} = \\vec{\\mathbf{T}} + \\vec{\\mathbf{F}}_\\mathrm{g}. \\tag{1a}\n",
    "$$\n",
    "\n",
    "The equation of motion is given by\n",
    "\n",
    "$$\n",
    "\\vec{\\mathbf{F}}_\\mathrm{A} = m \\vec{\\mathbf{a}}_\\mathrm{A},\\tag{1b}\n",
    "$$\n",
    "\n",
    "where $\\vec{\\mathbf{a}}_\\mathrm{A}$ is the acceleration of bob.\n",
    "\n",
    "The unit vectors are also rotating with\n",
    "\n",
    "$$\n",
    "\\vec{\\mathbf{\\Omega}} = \\Omega_0 (\\cos \\Theta_0 \\hat{\\mathbf{R}} - \\sin \\Theta_0 \\hat{\\mathbf{\\Theta}}) \\tag{1c}\n",
    "$$"
   ]
  },
  {
   "cell_type": "markdown",
   "id": "017c2a5a",
   "metadata": {},
   "source": [
    "## Orbiting and rotating frame\n",
    "\n",
    "For a frame $F_\\mathrm{B}$ located at the base of pendulum, let the coordinate axes be $(\\hat{\\mathbf{r}}, \\hat{\\mathbf{\\theta}}, \\hat{\\mathbf{z}})$  where the base plane of the cylindrical coordinates aligns with the $R=R_0$ plane of $F_\\mathrm{A}$ and the $\\hat{\\mathbf{r}}(\\theta=0)$ unit vector aligns with the $\\hat{\\mathbf{\\Theta}}$ unit vector. As a result, the origin of $F_\\mathrm{B}$ orbits as well as rotates around $F_\\mathrm{A}$ with $\\Omega_0$."
   ]
  },
  {
   "cell_type": "markdown",
   "id": "9540e1c4",
   "metadata": {},
   "source": [
    "If the acceleration of bob in $F_\\mathrm{B}$ is $\\vec{\\mathbf{a}}_\\mathrm{B}$, then\n",
    "\n",
    "$$\n",
    "\\vec{\\mathbf{a}}_\\mathrm{A} = \\vec{\\mathbf{a}}_\\mathrm{B} + \\vec{\\mathbf{a}}_\\mathrm{BA} + \\vec{\\mathbf{a}}_\\mathrm{Coriolis} + \\vec{\\mathbf{a}}_\\mathrm{centrifugal} \\tag{2a},\n",
    "$$\n",
    "\n",
    "where $\\vec{\\mathbf{a}}_\\mathrm{BA}$ is the acceleration of origin of $F_\\mathrm{B}$ due to orbiting and given by\n",
    "\n",
    "$$\n",
    "\\vec{\\mathbf{a}}_\\mathrm{BA} = - \\Omega_0 \\vec{\\mathbf{R}}_\\mathrm{eff} , \\tag{2b}\n",
    "$$\n",
    "\n",
    "\n",
    "where $\\vec{\\mathbf{R}}_\\mathrm{eff}$ is the effective radius of bob from the Earth's axis and given by\n",
    "\n",
    "$$\n",
    "\\vec{\\mathbf{R}}_\\mathrm{eff} = R_\\mathrm{eff} \\hat{\\mathbf{R}}_\\mathrm{eff}, \\tag{2c}\n",
    "$$\n",
    "\n",
    "where\n",
    "\n",
    "$$\n",
    "\\begin{array}{}\n",
    "R_\\mathrm{eff} &= R_0 \\sin \\Theta_0 , \\\\\n",
    "\\hat{\\mathbf{R}}_\\mathrm{eff} &= \\sin \\Theta \\hat{\\mathbf{r}} + \\cos \\Theta \\hat{\\mathbf{\\Theta}},\n",
    "\\end{array}\n",
    "$$\n",
    "\n",
    "and $\\vec{\\mathbf{a}}_\\mathrm{Coriolis}$ is the Coriolis acceleration arising due to relative velocity and given by\n",
    "\n",
    "$$\n",
    "\\vec{\\mathbf{a}}_\\mathrm{Coriolis} = 2 (\\vec{\\mathbf{\\Omega}} \\times \\vec{\\mathbf{v}}_\\mathrm{B}), \\tag{2d}\n",
    "$$\n",
    "\n",
    "where $\\vec{\\mathbf{v}}_\\mathrm{B}$ is the velocity of the particle in $F_\\mathrm{B}$ and $\\vec{\\mathbf{a}}_\\mathrm{centrifugal}$ is the centripetal acceleration arising due to relative radial extent and given by\n",
    "\n",
    "$$\n",
    "\\vec{\\mathbf{a}}_\\mathrm{centripetal} = \\vec{\\mathbf{\\Omega}} \\times (\\vec{\\mathbf{\\Omega}} \\times \\vec{\\mathbf{r}}_\\mathrm{B}), \\tag{2e}\n",
    "$$\n",
    "\n",
    "$\\vec{\\mathbf{r}}_\\mathrm{B}$ is the position of the particle in $F_\\mathrm{B}$."
   ]
  },
  {
   "cell_type": "markdown",
   "id": "c067f213",
   "metadata": {},
   "source": [
    "## Reduced equation of motion \n",
    "\n",
    "In frame $F_\\mathrm{A}$, the equation of motion is given by\n",
    "\n",
    "$$\n",
    "\\vec{\\mathbf{F}}_\\mathrm{B} = m \\vec{\\mathbf{a}}_\\mathrm{B}, \\tag{3a}\n",
    "$$\n",
    "\n",
    "where $\\vec{\\mathbf{F}}_\\mathrm{B}$ is the net force. Using Equations 1b and 2a, the net force is given by\n",
    "\n",
    "$$\n",
    "\\vec{\\mathbf{F}}_\\mathrm{B} = \\vec{\\mathbf{F}}_\\mathrm{A} + \\vec{\\mathbf{F}}_\\mathrm{pseudo}, \\tag{3b}\n",
    "$$\n",
    "\n",
    "where $\\vec{\\mathbf{F}}_\\mathrm{pseudo}$ is the additional pseudo or fictitious force experienced and given by\n",
    "\n",
    "$$\n",
    "\\vec{\\mathbf{F}}_\\mathrm{pseudo} = - m \\vec{\\mathbf{a}}_\\mathrm{BA} - m \\vec{\\mathbf{a}}_\\mathrm{Coriolis} - m \\vec{\\mathbf{a}}_\\mathrm{centripetal}. \\tag{3c}\n",
    "$$"
   ]
  },
  {
   "cell_type": "markdown",
   "id": "4bf86bf1",
   "metadata": {},
   "source": [
    "## Transformation of coordinate systems\n",
    "\n",
    "In terms of $(\\hat{\\mathbf{r}}, \\hat{\\mathbf{\\theta}}, \\hat{\\mathbf{z}})$, the $(\\hat{\\mathbf{R}}, \\hat{\\mathbf{\\Theta}}, \\hat{\\mathbf{\\Phi}}) $ is given by\n",
    "\n",
    "$$\n",
    "\\begin{array}{}\n",
    "\\hat{\\mathbf{R}} &= \\hat{\\mathbf{z}},\\\\\n",
    "\\hat{\\mathbf{\\Theta}} &= \\cos \\Theta_0 \\hat{\\mathbf{R}} - \\sin \\Theta_0 \\hat{\\mathbf{\\Theta}}, \\\\\n",
    "\\hat{\\mathbf{\\Phi}} &= \\sin \\Theta_0 \\hat{\\mathbf{R}} + \\cos \\Theta_0 \\hat{\\mathbf{\\Theta}}.\n",
    "\\end{array} \\tag{4}\n",
    "$$"
   ]
  },
  {
   "cell_type": "markdown",
   "id": "e097c173",
   "metadata": {},
   "source": [
    "## Small angle approximation\n",
    "\n",
    "If we assume that the length of the pendulum  $L_0$ is large enough compared to the maximum radial motion of bob, then we can approximate the motion to the $z=0$ plane. Under this approximation, we can neglect the $z-$components of position, velocity and acceleration of bob in $F_B$. \n",
    "\n",
    "Further under this approximation, the $r-$ and $\\theta-$ components have an angular velocity $\\vec{\\mathbf{\\omega}}_\\mathrm{B}$ and acceleration $\\vec{\\mathbf{\\alpha}}_\\mathrm{B}$ only along the $z-$ component and given by \n",
    "\n",
    "$$\n",
    "\\begin{array}\n",
    "\\vec{\\mathbf{\\omega}} &= \\omega_\\mathrm{B}  \\hat{\\mathbf{z}}, \\\\\n",
    "\\vec{\\mathbf{\\alpha}} &= \\alpha_\\mathrm{B}  \\hat{\\mathbf{z}},\n",
    "\\end{array} \\tag{5a}\n",
    "$$\n",
    "\n",
    "As a result, the position, velocity and acceleration is reduced to\n",
    "\n",
    "$$\n",
    "\\begin{array}\n",
    "\\vec{\\mathbf{r}}_\\mathrm{B} &= r \\hat{\\mathbf{r}}, \\\\\n",
    "\\vec{\\mathbf{v}}_\\mathrm{B} &= \\dot{r} \\hat{\\mathbf{r}} + r \\omega \\hat{\\mathbf{\\theta}}, \\\\\n",
    "\\vec{\\mathbf{a}}_\\mathrm{B} &= (\\ddot{r} - r \\omega^2 ) \\hat{\\mathbf{r}} + (r \\alpha + 2 \\dot{r}\\omega) \\hat{\\mathbf{\\theta}}.\n",
    "\\end{array} \\tag{5b}\n",
    "$$\n",
    "\n",
    "It is to be noted that the subscript B in the radius $f$ and angular speed $\\omega$ and angular acceleration $\\alpha$ is dropped for brevity."
   ]
  },
  {
   "cell_type": "markdown",
   "id": "4eadc7fe",
   "metadata": {},
   "source": [
    "## Degrees of freedom\n",
    "\n",
    "Hence, under the small angle approximation, we have two degrees of freedom, the radial extent $r$ and the angular deviation $\\theta$. Hence the generalized coordinates are\n",
    "\n",
    "$$\n",
    "\\vec{\\mathbf{q}} = \\{r, \\theta\\},\n",
    "$$\n",
    "\n",
    "and the corresponding velocities are\n",
    "\n",
    "$$\n",
    "\\dot{\\vec{\\mathbf{q}}} = \\{\\dot{r}, \\omega\\}.\n",
    "$$\n",
    "\n",
    "> The objective is to find the equations for the rate of change of the generalized coordinates and their corresponding velocities."
   ]
  },
  {
   "cell_type": "markdown",
   "id": "7ab02c50",
   "metadata": {},
   "source": [
    "## Free Body diagram\n",
    "\n",
    "Let the tension $\\vec{\\mathbf{T}}$ be\n",
    "\n",
    "$$\n",
    "\\vec{\\mathbf{T}} = T_\\mathrm{r} \\hat{\\mathbf{r}} + T_\\mathrm{\\theta} \\hat{\\mathbf{\\theta}} + T_\\mathrm{z} \\hat{\\mathbf{z}}.\n",
    "$$\n",
    "\n",
    "The force due to gravity is\n",
    "\n",
    "$$\n",
    "\\vec{\\mathbf{F}}_\\mathrm{g} = -m g \\hat{\\mathbf{z}}.\n",
    "$$\n",
    "\n",
    "Using the Equations 2 and 5b, the terms in the pseudo force are given by\n",
    "\n",
    "$$\n",
    "\\begin{array}{}\n",
    "- m \\vec{\\mathbf{a}}_\\mathrm{BA} &= m \\Omega^2 R_\\mathrm{eff} \\left( \\cos \\Theta \\cos \\theta \\hat{\\mathbf{r}} - \\cos \\Theta \\sin \\theta \\hat{\\mathbf{\\theta}} + \\sin \\Theta \\hat{\\mathbf{z}} \\right), \\\\\n",
    "- m \\vec{\\mathbf{a}}_\\mathrm{Coriolis} &= 2 m \\Omega \\left( r \\omega \\cos \\Theta \\hat{\\mathbf{r}} - \\dot{r} \\cos \\Theta \\hat{\\mathbf{\\theta}}  + \\overline{\\dot{r}\\sin\\Theta \\sin\\theta + r \\omega \\sin \\Theta \\cos \\theta} \\hat{\\mathbf{z}} \\right), \\\\\n",
    "- m \\vec{\\mathbf{a}}_\\mathrm{centripetal} &= m r \\Omega^2 \\left( \\overline{\\cos^2 \\Theta + \\sin^2 \\Theta \\sin^2 \\theta} \\hat{\\mathbf{r}} + \\sin^2\\Theta \\cos \\theta \\sin \\theta \\hat{\\mathbf{\\theta}}  + \\sin \\Theta \\cos^2 \\theta \\hat{\\mathbf{z}} \\right).\n",
    "\\end{array}\n",
    "$$\n",
    "\n",
    "Hence the resolution of the reduced equation of motion into its components is given by\n",
    "\n",
    "$$\n",
    "\\left(\n",
    "\\begin{array}{}\n",
    "T_\\mathrm{r} + m \\Omega^2 R_\\mathrm{eff} \\cos \\Theta \\cos \\theta + 2 m \\Omega r \\omega \\cos \\Theta + m r \\Omega^2 \\overline{\\cos^2 \\Theta + \\sin^2 \\Theta \\sin^2 \\theta} \\\\\n",
    "T_\\mathrm{\\theta} - m \\Omega^2 R_\\mathrm{eff}\\cos \\Theta \\sin \\theta - 2 m \\Omega \\dot{r} \\cos \\Theta + m r \\Omega^2 \\sin^2\\Theta \\cos \\theta \\sin \\theta \\\\\n",
    "T_\\mathrm{z} - m g +  m \\Omega^2 R_\\mathrm{eff} \\sin \\Theta + 2 m \\Omega \\overline{\\dot{r}\\sin\\Theta \\sin\\theta + r \\omega \\sin \\Theta \\cos \\theta} + m r \\Omega^2 \\sin \\Theta \\cos^2 \\theta\n",
    "\\end{array} \n",
    "\\right)\n",
    "=\n",
    "\\left(\n",
    "\\begin{array}{}\n",
    "\\ddot{r} - r \\omega^2 \\\\\n",
    "r \\alpha + 2 \\dot{r}\\omega \\\\\n",
    "0\n",
    "\\end{array}\n",
    "\\right) \\tag{6}\n",
    "$$"
   ]
  },
  {
   "cell_type": "markdown",
   "id": "8411516d",
   "metadata": {},
   "source": [
    "## Equation of constraint\n",
    "\n",
    "Due to the tensile nature of $\\vec{\\mathbf{T}}$,\n",
    "\n",
    "$$\n",
    "T_\\mathrm{\\theta} = 0 \\tag{7a}\n",
    "$$\n",
    "\n",
    "and \n",
    "\n",
    "$$\n",
    "T_\\mathrm{z} \\tan \\varphi = - T_\\mathrm{r}, \\tag{7b}\n",
    "$$\n",
    "\n",
    "where $\\varphi$ is the angular deviation of the wire from the mean position and given by\n",
    "\n",
    "$$\n",
    "\\varphi = \\frac{r}{L_0}. \\tag{7c}\n",
    "$$\n",
    "\n",
    "Under small angle approximation,\n",
    "\n",
    "$$\n",
    "\\tan \\varphi \\approx \\varphi.\n",
    "$$"
   ]
  },
  {
   "cell_type": "markdown",
   "id": "1ab77dc6",
   "metadata": {},
   "source": [
    "## Analytical solution\n",
    "\n",
    "Using expressions for $T_\\mathrm{r}, T_\\mathrm{z}$ from Equation 6 and subsituting in Equations. 7a, 7b we have \n",
    "\n",
    "$$\n",
    "\\left(\n",
    "\\begin{array}{}\n",
    "\\ddot{r} \\\\\n",
    "r \\alpha\n",
    "\\end{array}\n",
    "\\right)\n",
    "=\n",
    "\\left(\n",
    "\\begin{array}{}\n",
    "a_\\mathrm{r} + r \\omega^2 \\\\\n",
    "a_\\mathrm{\\theta} - 2 \\dot{r}\\omega\n",
    "\\end{array}\n",
    "\\right)\n",
    "$$\n",
    "\n",
    "where $m a_\\mathrm{r}, m a_\\mathrm{\\theta}$ are respectively the radial and tangential components of the reduced net force and given by\n",
    "\n",
    "$$\n",
    "\\left(\n",
    "\\begin{array}{}\n",
    "a_\\mathrm{r} \\\\\n",
    "a_\\mathrm{\\theta}\n",
    "\\end{array}\n",
    "\\right)\n",
    "=\n",
    "\\left(\n",
    "\\begin{array}{}\n",
    "- \\frac{r}{L_0} g +  R_\\mathrm{eff} \\Omega^2 \\left( \\frac{r}{L_0} \\sin \\Theta + \\cos \\Theta \\cos \\theta \\right) + 2 \\Omega  \\left( \\frac{r}{L_0} \\overline{ \\dot{r} \\sin \\Theta \\sin \\theta + r \\omega \\sin \\Theta \\cos \\theta } + r \\omega \\cos \\Theta \\right) + r \\Omega^2  \\left( \\frac{r}{L_0} \\sin \\Theta \\cos^2 \\theta +  \\overline{ \\cos^2 \\Theta  + \\sin^2 \\Theta \\sin^2 \\theta } \\right)  \\\\\n",
    "- R_\\mathrm{eff} \\Omega^2  \\cos \\Theta \\sin \\theta - 2 \\Omega \\dot{r} \\cos \\Theta + r \\Omega^2  \\sin^2 \\Theta \\cos\\theta \\sin \\theta.\n",
    "\\end{array}\n",
    "\\right)\n",
    "$$\n",
    "\n",
    "If we denote the generalized coordinates and the corresponding velocities as generic variables\n",
    "\n",
    "$$\n",
    "\\{ r, \\theta, \\dot{r}, \\omega \\} = \\{y_1, y_2, y_3, y_4 \\},\n",
    "$$\n",
    "\n",
    "then then the rate of change of these variables is given by\n",
    "\n",
    "$$\n",
    "\\left(\n",
    "\\begin{array}{}\n",
    "\\dot{y}_1 \\\\\n",
    "\\dot{y}_2 \\\\\n",
    "\\dot{y}_3 \\\\\n",
    "\\dot{y}_4\n",
    "\\end{array}\n",
    "\\right)\n",
    "=\n",
    "\\left(\n",
    "\\begin{array}{}\n",
    "y_3 \\\\\n",
    "y_4 \\\\\n",
    "a_\\mathrm{r} + y_1y_4^2 \\\\\n",
    "\\frac{1}{y_1} \\left(a_\\mathrm{\\theta} - 2 y_3y_4 \\right)\n",
    "\\end{array}\n",
    "\\right),\n",
    "$$\n",
    "\n",
    "where \n",
    "\n",
    "$$\n",
    "\\left(\n",
    "\\begin{array}{}\n",
    "a_\\mathrm{r} \\\\\n",
    "a_\\mathrm{\\theta}\n",
    "\\end{array}\n",
    "\\right)\n",
    "=\n",
    "\\left(\n",
    "\\begin{array}{}\n",
    "- \\frac{y_1}{L_0} g +  R_\\mathrm{eff} \\Omega^2 \\left( \\frac{y_1}{L_0} \\sin \\Theta + \\cos \\Theta \\cos y_2 \\right) + 2 \\Omega  \\left( \\frac{y_1}{L_0} \\overline{ y_3 \\sin \\Theta \\sin y_2 + y_1 y_4 \\sin \\Theta \\cos y_2 } + y_1 y_4 \\cos \\Theta \\right) + y_1 \\Omega^2  \\left( \\frac{y_1}{L_0} \\sin \\Theta \\cos^2 y_2 +  \\overline{ \\cos^2 \\Theta  + \\sin^2 \\Theta \\sin^2 y_2 } \\right)  \\\\\n",
    "- R_\\mathrm{eff} \\Omega^2  \\cos \\Theta \\sin y_2 - 2 \\Omega y_3 \\cos \\Theta + y_1 \\Omega^2  \\sin^2 \\Theta \\cos y_2 \\sin y_2.\n",
    "\\end{array}\n",
    "\\right)\n",
    "$$\n",
    "\n",
    "Hence, we have a set of four first-order non-linear differential equations in four variables that can be succintly in the vector form\n",
    "\n",
    "$$\n",
    "\\dot{\\vec{\\mathbf{y}}} = \\tilde{\\mathrm{D}}\\vec{\\mathbf{y}}, \\tag{8}\n",
    "$$\n",
    "\n",
    "where $\\vec{\\mathbf{y}} = (y_1, y_2, y_3, y_4)$ is generalized position in the coordinate space and $\\tilde{\\mathrm{D}}$ is the differential operator. If we know the initial condition $\\vec{\\mathbf{y}}^0$, we can in principle solve the first order differential equation."
   ]
  },
  {
   "cell_type": "markdown",
   "id": "13f885a1",
   "metadata": {},
   "source": [
    "## Reality checks\n",
    "\n",
    "In order to test the veracity of the above analysis, let us compare the form of the equations in limiting conditions with physical behaviour.\n",
    "\n",
    "### $\\Omega_0 =0$ limit\n",
    "\n",
    "If the Earth is not rotating, then the motion of the bob should be akin to that of a simple pendulum in 2D.\n",
    "\n",
    "$$\n",
    "\\left(\n",
    "\\begin{array}{}\n",
    "a_\\mathrm{r} \\\\\n",
    "a_\\mathrm{\\theta}\n",
    "\\end{array}\n",
    "\\right)\n",
    "=\n",
    "\\left(\n",
    "\\begin{array}{}\n",
    "- \\frac{r}{L_0} g  \\\\\n",
    "0\n",
    "\\end{array}\n",
    "\\right).\n",
    "$$"
   ]
  },
  {
   "cell_type": "markdown",
   "id": "a17b01d6",
   "metadata": {},
   "source": [
    "## Numerical solution\n",
    "\n",
    "We can solve Equation 8 using Scipy package's interpolate' module `solve_ivp` function. "
   ]
  },
  {
   "cell_type": "code",
   "execution_count": 1,
   "id": "a513a180",
   "metadata": {},
   "outputs": [],
   "source": [
    "import numpy as np\n",
    "from scipy.integrate import solve_ivp\n",
    "from scipy.interpolate import interp1d\n",
    "import matplotlib as mpl\n",
    "import matplotlib.pyplot as plt"
   ]
  },
  {
   "cell_type": "code",
   "execution_count": 2,
   "id": "e37d9d4f",
   "metadata": {},
   "outputs": [],
   "source": [
    "# Constants\n",
    "\n",
    "RADIUS = 6.4e6 # Radius of earth (in m)\n",
    "DAY = 24 * 3600 # time period (in s)\n",
    "OMEGA = 2*np.pi/DAY\n",
    "LATITUDE = 61.4/180*np.pi # polar latitude (in rad)\n",
    "MASS = 1 # mass of pendulum (in kg)\n",
    "LENGTH = 100 # length of pendulum (in m)\n",
    "GRAVITY = 9.8 # acceleration due to gravity (in ms-2)\n",
    "\n",
    "# Default particle trajectory conditions\n",
    "\n",
    "STATE_0 = (1, 0, 0, 0)\n",
    "T_SPAN = (0, 100)\n",
    "MIN_TIMESTAMPS = T_SPAN[1]*10"
   ]
  },
  {
   "cell_type": "code",
   "execution_count": 3,
   "id": "139af475",
   "metadata": {},
   "outputs": [],
   "source": [
    "class Particle:\n",
    "    \"\"\"\n",
    "    This particle is under the influence of a radial force.\n",
    "    Particle's attributes are -\n",
    "        - Mass\n",
    "        - Initial coordinates\n",
    "        - External force\n",
    "        - time interval\n",
    "    Particle's methods are -\n",
    "        - solution\n",
    "        - trajectory\n",
    "    \"\"\"\n",
    "    def __init__(self, force, mass=MASS, state0=STATE_0, t_span=T_SPAN):\n",
    "        self.mass = mass\n",
    "        self.state0 = state0\n",
    "        self.t_span = t_span\n",
    "        self.force = force\n",
    "        self.ts, self.states = self.solution()\n",
    "\n",
    "    def motion(self, t, state):\n",
    "        \"\"\"\n",
    "        The velocity vector for a particle under a 2D radial force.\n",
    "        The parameter t is used by the ODE solver from scipy.\n",
    "        \"\"\"\n",
    "        m = self.mass\n",
    "        # generalized coordinates\n",
    "        y1, y2, y3, y4 = state\n",
    "        \n",
    "        # force components\n",
    "        f_r, f_t = self.force(state)\n",
    "\n",
    "        v1 = y3\n",
    "        v2 = y4\n",
    "        v3 = f_r/m + y1*y4**2\n",
    "        v4 = 1/y1*(f_t/m - 2*y3*y4)\n",
    "        \n",
    "        # generalized velocity\n",
    "        v = (v1, v2, v3, v4)\n",
    "\n",
    "        return v\n",
    "    \n",
    "    def solution(self):\n",
    "        \"\"\"\n",
    "        ODE solver from scipy.\n",
    "        \"\"\"\n",
    "        global MIN_TIMESTAMPS\n",
    "        max_step = self.t_span[1]/MIN_TIMESTAMPS\n",
    "        solver = solve_ivp(self.motion, self.t_span, self.state0, max_step=max_step)\n",
    "        ts, states = solver.t, solver.y\n",
    "        \n",
    "        return ts, states\n",
    "    \n",
    "    def trajectory(self):\n",
    "        \"\"\"\n",
    "        Trajectory of motion.\n",
    "        \"\"\"\n",
    "        # time stamps\n",
    "        ts = self.ts\n",
    "        \n",
    "        # Generalized coordinates.\n",
    "        radii, thetas, speeds, omegas = self.states\n",
    "        \n",
    "        # time profiles of coordinates.\n",
    "        \n",
    "        fig, ax = plt.subplots()\n",
    "        ax.plot(ts, radii, label='r')\n",
    "        ax.plot(ts, thetas%(2*np.pi), label=r'$\\theta$')\n",
    "        ax.plot(ts, speeds, label='v')\n",
    "        ax.plot(ts, omegas, label=r'$\\omega$')\n",
    "        ax.axhline(0, color ='k')\n",
    "        ax.legend()\n",
    "        \n",
    "        # Cartesian coordinates\n",
    "        \n",
    "        xs = [radius*np.cos(theta) for radius, theta in zip(radii, thetas)]\n",
    "        ys = [radius*np.sin(theta) for radius, theta in zip(radii, thetas)]\n",
    "        \n",
    "        # Interpolate the data\n",
    "        f = interp1d(xs, ys, kind='cubic')\n",
    "        xs_int = xs\n",
    "        ys_int = f(xs_int)\n",
    "        \n",
    "        # Trajectory\n",
    "        fig1, ax1 = plt.subplots()\n",
    "        ax1.plot(xs, ys, 'o', label='trajectory')\n",
    "        ax1.plot(xs_int, ys_int, '-')\n",
    "        ax1.axhline(0, color ='k')\n",
    "        ax1.axvline(0, color ='k')\n",
    "        ax1.set_aspect('equal')\n",
    "        ax1.legend()\n",
    "        "
   ]
  },
  {
   "cell_type": "markdown",
   "id": "c683ddb5",
   "metadata": {},
   "source": [
    "### Particle under Hooke's force\n",
    "\n",
    "To test the viability of the motion solver, let us test the motion of a particle in 2D under Hooke's force\n",
    "\n",
    "$$\n",
    "\\vec{\\mathbf{F}}_\\mathrm{Hooke} = -r\n",
    "$$\n",
    "\n",
    "The solution is a Simple Harmonic Motion (SHM) in 2D with angular speed $\\omega = 1$ as shown below."
   ]
  },
  {
   "cell_type": "code",
   "execution_count": 4,
   "id": "10c3bd5e",
   "metadata": {},
   "outputs": [],
   "source": [
    "# hooke's law\n",
    "\n",
    "def hooke(state):\n",
    "    \"\"\"\n",
    "    The force in general depends on the coordinates (r, theta)=(y1, y2) and the velocity (v, omega)=(y3, y4).\n",
    "    This is a radial force.\n",
    "    \"\"\"\n",
    "    y1, y2, y3, y4 = state\n",
    "    \n",
    "    # force components in polar coordinates.\n",
    "    f_r = -1*y1\n",
    "    f_t = 0\n",
    "    \n",
    "    force = (f_r, f_t)\n",
    "    \n",
    "    return force\n"
   ]
  },
  {
   "cell_type": "code",
   "execution_count": 5,
   "id": "84a71733",
   "metadata": {},
   "outputs": [],
   "source": [
    "# Particle under hooke's law\n",
    "\n",
    "state_0 = (1, 0, 0, 0)\n",
    "t_span = (0, 20)\n",
    "MIN_TIMESTAMPS = T_SPAN[1]*10\n",
    "\n",
    "p = Particle(hooke, state0=state_0, t_span=t_span)"
   ]
  },
  {
   "cell_type": "code",
   "execution_count": 6,
   "id": "ccff62fa",
   "metadata": {
    "scrolled": true
   },
   "outputs": [
    {
     "data": {
      "image/png": "[encoded data removed]",
      "text/plain": [
       "<Figure size 432x288 with 1 Axes>"
      ]
     },
     "metadata": {
      "needs_background": "light"
     },
     "output_type": "display_data"
    },
    {
     "data": {
      "image/png": "[encoded data removed]",
      "text/plain": [
       "<Figure size 432x288 with 1 Axes>"
      ]
     },
     "metadata": {
      "needs_background": "light"
     },
     "output_type": "display_data"
    }
   ],
   "source": [
    "p.trajectory()"
   ]
  },
  {
   "cell_type": "markdown",
   "id": "cc17ce7c",
   "metadata": {},
   "source": [
    "The time period of SHM is given by\n",
    "\n",
    "$$\n",
    "T_\\mathrm{SHM} = 2 \\pi / \\omega.\n",
    "$$"
   ]
  },
  {
   "cell_type": "markdown",
   "id": "eecb5b69",
   "metadata": {},
   "source": [
    "For a particle having a tangential component of velocity, we have SHM in 2D."
   ]
  },
  {
   "cell_type": "code",
   "execution_count": 7,
   "id": "bf8fc020",
   "metadata": {},
   "outputs": [],
   "source": [
    "# tangential trajectory\n",
    "\n",
    "state0 = (1, 0, 1, 2)\n",
    "t_span = (0, 20)\n",
    "MIN_TIMESTAMPS = t_span[1]*10\n",
    "p1 = Particle(hooke, state0=state0, t_span=t_span)"
   ]
  },
  {
   "cell_type": "code",
   "execution_count": 8,
   "id": "ae5b640a",
   "metadata": {},
   "outputs": [
    {
     "data": {
      "image/png": "[encoded data removed]",
      "text/plain": [
       "<Figure size 432x288 with 1 Axes>"
      ]
     },
     "metadata": {
      "needs_background": "light"
     },
     "output_type": "display_data"
    },
    {
     "data": {
      "image/png": "[encoded data removed]",
      "text/plain": [
       "<Figure size 432x288 with 1 Axes>"
      ]
     },
     "metadata": {
      "needs_background": "light"
     },
     "output_type": "display_data"
    }
   ],
   "source": [
    "p1.trajectory()"
   ]
  },
  {
   "cell_type": "markdown",
   "id": "5fcf13ef",
   "metadata": {},
   "source": [
    "### Particle under gravitation force\n",
    "\n",
    "To check the robustness of the motion solver in polar coordinates, let us test the motion of a particle in 2D under the gravitational force\n",
    "\n",
    "$$\n",
    "\\vec{\\mathbf{F}}_\\mathrm{Newton} = - \\frac{1}{r^2}\n",
    "$$\n",
    "\n",
    "The solution is a conic as shown below:"
   ]
  },
  {
   "cell_type": "code",
   "execution_count": 9,
   "id": "7cf87ba1",
   "metadata": {},
   "outputs": [],
   "source": [
    "def newton(state):\n",
    "    \"\"\"\n",
    "    inverse square force that is radial in nature.\n",
    "    \"\"\"\n",
    "    \n",
    "    y1, y2, y3, y4 = state\n",
    "    \n",
    "    # force components in polar coordinates.\n",
    "    f_r = -1/y1**2\n",
    "    f_t = 0\n",
    "    \n",
    "    force = (f_r, f_t)\n",
    "    \n",
    "    return force"
   ]
  },
  {
   "cell_type": "code",
   "execution_count": 10,
   "id": "2ba5c276",
   "metadata": {},
   "outputs": [],
   "source": [
    "# tangential trajectory\n",
    "\n",
    "state0 = (1, 0, 0, 1.1)\n",
    "t_span = (0, 20)\n",
    "MIN_TIMESTAMPS = t_span[1]*10\n",
    "p2 = Particle(newton, state0=state0, t_span=t_span)"
   ]
  },
  {
   "cell_type": "code",
   "execution_count": 11,
   "id": "fae6c1f5",
   "metadata": {},
   "outputs": [
    {
     "data": {
      "image/png": "[encoded data removed]",
      "text/plain": [
       "<Figure size 432x288 with 1 Axes>"
      ]
     },
     "metadata": {
      "needs_background": "light"
     },
     "output_type": "display_data"
    },
    {
     "data": {
      "image/png": "[encoded data removed]",
      "text/plain": [
       "<Figure size 432x288 with 1 Axes>"
      ]
     },
     "metadata": {
      "needs_background": "light"
     },
     "output_type": "display_data"
    }
   ],
   "source": [
    "p2.trajectory()"
   ]
  },
  {
   "cell_type": "markdown",
   "id": "24ea6865",
   "metadata": {},
   "source": [
    "## Foucault's pendulum\n",
    "\n",
    "The constants relevant to the motion are\n",
    "\n",
    "- radius of Earth $R$\n",
    "- angular speed of Earth $\\Omega$\n",
    "- polar latitude of location of pendulum $\\theta$\n",
    "- mass of pendulum $m$\n",
    "- length of pendulum $L$\n",
    "- acceleration due to gravity $g$\n",
    "\n",
    "The net force acting on the Foucault pendulum is described by Equation 8. The solution is computed below."
   ]
  },
  {
   "cell_type": "code",
   "execution_count": 12,
   "id": "05d23bad",
   "metadata": {},
   "outputs": [],
   "source": [
    "# foucault force\n",
    "\n",
    "def foucault(state):\n",
    "    \"\"\"\n",
    "    Foucault force that is the net combination of gravity and pseudo force experience due to observer located at the location.\n",
    "    \"\"\"\n",
    "    y1, y2, y3, y4 = state\n",
    "    \n",
    "    # force components in polar coordinates.\n",
    "    global MASS\n",
    "    global RADIUS\n",
    "    global LATITUDE\n",
    "    global OMEGA\n",
    "    global GRAVITY\n",
    "    global LENGTH\n",
    "    \n",
    "    m = MASS\n",
    "    R = RADIUS\n",
    "    th = LATITUDE\n",
    "    w = OMEGA\n",
    "    g = GRAVITY\n",
    "    l = LENGTH\n",
    "    \n",
    "    r_eff = R * np.sin(th)\n",
    "    f_cf = m*r_eff*w**2\n",
    "    dy1= y1/l\n",
    "    \n",
    "    a_g = -1*g*dy1\n",
    "    a_o = r_eff*w**2 * (dy1*np.sin(th) + np.cos(th)*np.cos(y2))\n",
    "    a_c = 2*w*(dy1*(y3*np.sin(th)*np.sin(y2) + y1*y4*np.sin(th)*np.cos(y2)) + y1*y4*np.cos(th))\n",
    "    a_cf = y1*w**2*(dy1*np.sin(th)*np.cos(y2)**2 + (np.cos(th)**2 + np.sin(th)**2 * np.sin(y2)**2))\n",
    "    \n",
    "    \n",
    "    a_r = a_g + a_o + a_c + a_cf\n",
    "    \n",
    "    a_t = -r_eff*w**2*np.cos(th)*np.sin(y2) - 2*w*y3*np.cos(th) + y1*w**2*np.sin(th)**2*np.cos(y2)*np.sin(y2)\n",
    "    \n",
    "    f_r = m*a_r\n",
    "    f_t = m*a_t\n",
    "    \n",
    "    force = (f_r, f_t)\n",
    "    \n",
    "    return force\n",
    "    "
   ]
  },
  {
   "cell_type": "code",
   "execution_count": 13,
   "id": "bb6427ff",
   "metadata": {},
   "outputs": [],
   "source": [
    "# particle under Foucault force\n",
    "state0 = (1, 0, 0, 0)\n",
    "t_span = (0, 3600)\n",
    "MIN_TIMESTAMPS = t_span[1]*10\n",
    "pendulum = Particle(foucault, state0=state0, t_span=t_span)"
   ]
  },
  {
   "cell_type": "code",
   "execution_count": 14,
   "id": "c86921f9",
   "metadata": {
    "scrolled": false
   },
   "outputs": [
    {
     "data": {
      "image/png": "[encoded data removed]",
      "text/plain": [
       "<Figure size 432x288 with 1 Axes>"
      ]
     },
     "metadata": {
      "needs_background": "light"
     },
     "output_type": "display_data"
    },
    {
     "data": {
      "image/png": "[encoded data removed]",
      "text/plain": [
       "<Figure size 432x288 with 1 Axes>"
      ]
     },
     "metadata": {
      "needs_background": "light"
     },
     "output_type": "display_data"
    }
   ],
   "source": [
    "# trajectory of pendulum\n",
    "\n",
    "pendulum.trajectory()"
   ]
  },
  {
   "cell_type": "markdown",
   "id": "9011b34e",
   "metadata": {},
   "source": [
    "### Stable foucault pendulum\n",
    "\n",
    "> NOTE:\n",
    "> At zero crossing, the solver becomes unstable due to the presence $1/r$ term.\n",
    "\n",
    "Hence, it is recommended to provide a slight tangential component to the initial velocity to avoid zero crossing."
   ]
  },
  {
   "cell_type": "code",
   "execution_count": 29,
   "id": "f9dc6c4f",
   "metadata": {},
   "outputs": [],
   "source": [
    "# tangential trajectory\n",
    "\n",
    "state0 = (1, 0, 0, 0.05)\n",
    "t_span = (0, 360)\n",
    "MIN_TIMESTAMPS = t_span[1]*10\n",
    "stable_pendulum = Particle(foucault, state0=state0, t_span=t_span)"
   ]
  },
  {
   "cell_type": "code",
   "execution_count": 30,
   "id": "db5e9641",
   "metadata": {},
   "outputs": [
    {
     "data": {
      "image/png": "[encoded data removed]",
      "text/plain": [
       "<Figure size 432x288 with 1 Axes>"
      ]
     },
     "metadata": {
      "needs_background": "light"
     },
     "output_type": "display_data"
    },
    {
     "data": {
      "image/png": "[encoded data removed]",
      "text/plain": [
       "<Figure size 432x288 with 1 Axes>"
      ]
     },
     "metadata": {
      "needs_background": "light"
     },
     "output_type": "display_data"
    }
   ],
   "source": [
    "# trajectory of pendulum\n",
    "\n",
    "stable_pendulum.trajectory()"
   ]
  },
  {
   "cell_type": "markdown",
   "id": "36044cd9",
   "metadata": {},
   "source": [
    "The approximate time period of oscillation within the so-called plane of oscillation is roughly equal to the time period of SHM motion\n",
    "\n",
    "$$\n",
    "T_\\mathrm{SHM} = 2 \\pi \\sqrt{\\frac{L_0}{g}}\n",
    "$$"
   ]
  },
  {
   "cell_type": "code",
   "execution_count": 31,
   "id": "cafcfa44",
   "metadata": {},
   "outputs": [],
   "source": [
    "# approximate time period of oscillation\n",
    "\n",
    "T = 2*np.pi*np.sqrt(LENGTH/GRAVITY)"
   ]
  },
  {
   "cell_type": "code",
   "execution_count": 32,
   "id": "cad9e9e0",
   "metadata": {},
   "outputs": [
    {
     "data": {
      "text/plain": [
       "20.07089923154493"
      ]
     },
     "execution_count": 32,
     "metadata": {},
     "output_type": "execute_result"
    }
   ],
   "source": [
    "T"
   ]
  },
  {
   "cell_type": "markdown",
   "id": "84b60fc6",
   "metadata": {},
   "source": [
    "# Effect of latitude\n",
    "\n",
    "As the mean position is off-centred from origin, let us look at the effect of latitude on the mean position"
   ]
  },
  {
   "cell_type": "markdown",
   "id": "dded3c44",
   "metadata": {},
   "source": [
    "## particle at north pole"
   ]
  },
  {
   "cell_type": "code",
   "execution_count": 33,
   "id": "0a5394c7",
   "metadata": {},
   "outputs": [],
   "source": [
    "LATITUDE = 0\n",
    "state0 = (10, 0, 0, 0.05)\n",
    "t_span = (0, 6*3600)\n",
    "MIN_TIMESTAMPS = 6*3600*10\n",
    "p_at_0 = Particle(foucault, state0=state0, t_span=t_span)"
   ]
  },
  {
   "cell_type": "code",
   "execution_count": null,
   "id": "571309f1",
   "metadata": {},
   "outputs": [],
   "source": [
    "p_at_0.trajectory()"
   ]
  },
  {
   "cell_type": "markdown",
   "id": "73e307f3",
   "metadata": {},
   "source": [
    "## particle at equator"
   ]
  },
  {
   "cell_type": "code",
   "execution_count": null,
   "id": "b833900a",
   "metadata": {},
   "outputs": [],
   "source": [
    "LATITUDE = np.pi/2\n",
    "state0 = (10, 0, 0, 0.05)\n",
    "t_span = (0, 3600)\n",
    "MIN_TIMESTAMPS = 3600*10\n",
    "p_at_90 = Particle(foucault, state0=state0, t_span=t_span)"
   ]
  },
  {
   "cell_type": "code",
   "execution_count": null,
   "id": "e5de814d",
   "metadata": {},
   "outputs": [],
   "source": [
    "p_at_90.trajectory()"
   ]
  },
  {
   "cell_type": "markdown",
   "id": "68c49cbc",
   "metadata": {},
   "source": [
    "## particle at 61.4 $^{o}$ latitude"
   ]
  },
  {
   "cell_type": "code",
   "execution_count": null,
   "id": "86126c66",
   "metadata": {},
   "outputs": [],
   "source": [
    "LATITUDE = 61.4/180*np.pi\n",
    "state0 = (10, 0, 0, 0.05)\n",
    "t_span = (0, DAY/np.cos(LATITUDE)/4)\n",
    "MIN_TIMESTAMPS = t_span[1]*10\n",
    "p_at_parliament = Particle(foucault, state0=state0, t_span=t_span)"
   ]
  },
  {
   "cell_type": "code",
   "execution_count": null,
   "id": "aed3d5e8",
   "metadata": {
    "scrolled": true
   },
   "outputs": [],
   "source": [
    "p_at_parliament.trajectory()"
   ]
  },
  {
   "cell_type": "markdown",
   "id": "80cd3514",
   "metadata": {},
   "source": [
    "# Effect of $\\omega_0$ on the trajectory\n",
    "\n",
    "With no initial angular speed, in the absence of rotation of Earth, the motion is simple 2D harmonic motion. Let us check how the motion changes with a finite initial angular speed"
   ]
  },
  {
   "cell_type": "markdown",
   "id": "a6fc23c2",
   "metadata": {},
   "source": [
    "## $\\omega_0 = 0$"
   ]
  },
  {
   "cell_type": "code",
   "execution_count": null,
   "id": "4ea1dada",
   "metadata": {},
   "outputs": [],
   "source": [
    "OMEGA = 0\n",
    "state0 = (1, np.pi/2, 0, 0)\n",
    "t_span = (0, 100)\n",
    "MIN_TIMESTAMPS = t_span[1]*10\n",
    "p_at_w_0 = Particle(foucault, state0=state0, t_span=t_span)"
   ]
  },
  {
   "cell_type": "code",
   "execution_count": null,
   "id": "c2acb719",
   "metadata": {
    "scrolled": true
   },
   "outputs": [],
   "source": [
    "p_at_w_0.trajectory()"
   ]
  },
  {
   "cell_type": "code",
   "execution_count": null,
   "id": "201a074c",
   "metadata": {},
   "outputs": [],
   "source": [
    "class CartesianParticle:\n",
    "    \"\"\"\n",
    "    This particle is under the influence of a 2D force.\n",
    "    Particle's attributes are -\n",
    "        - Mass\n",
    "        - Initial coordinates\n",
    "        - External force\n",
    "        - time interval\n",
    "    Particle's methods are -\n",
    "        - solution\n",
    "        - trajectory\n",
    "    \"\"\"\n",
    "    def __init__(self, force, state0, t_span, mass=MASS):\n",
    "        self.mass = mass\n",
    "        self.state0 = state0\n",
    "        self.t_span = t_span\n",
    "        self.force = force\n",
    "        self.ts, self.states = self.solution()\n",
    "\n",
    "    def motion(self, t, state):\n",
    "        \"\"\"\n",
    "        The velocity vector for a particle under a 2D radial force.\n",
    "        The parameter t is used by the ODE solver from scipy.\n",
    "        \"\"\"\n",
    "        m = self.mass\n",
    "        # generalized coordinates\n",
    "        y1, y2, y3, y4 = state\n",
    "        \n",
    "        # force components\n",
    "        f_x, f_y = self.force(state)\n",
    "\n",
    "        v1 = y3\n",
    "        v2 = y4\n",
    "        v3 = f_x/m \n",
    "        v4 = f_y/m\n",
    "        \n",
    "        # generalized velocity\n",
    "        v = (v1, v2, v3, v4)\n",
    "\n",
    "        return v\n",
    "    \n",
    "    def solution(self):\n",
    "        \"\"\"\n",
    "        ODE solver from scipy.\n",
    "        \"\"\"\n",
    "        global MIN_TIMESTAMPS\n",
    "        max_step = self.t_span[1]/MIN_TIMESTAMPS\n",
    "        solver = solve_ivp(self.motion, self.t_span, self.state0, max_step=max_step)\n",
    "        ts, states = solver.t, solver.y\n",
    "        \n",
    "        return ts, states\n",
    "    \n",
    "    def trajectory(self):\n",
    "        \"\"\"\n",
    "        Trajectory of motion.\n",
    "        \"\"\"\n",
    "        # time stamps\n",
    "        ts = self.ts\n",
    "        \n",
    "        # Generalized coordinates.\n",
    "        xs, ys, v_xs, v_ys = self.states\n",
    "        \n",
    "        # time profiles of coordinates.\n",
    "        \n",
    "        fig, ax = plt.subplots()\n",
    "        ax.plot(ts, xs, label='x')\n",
    "        ax.plot(ts, ys, label='y')\n",
    "        ax.plot(ts, v_xs, label=r'$v_x$')\n",
    "        ax.plot(ts, v_ys, label=r'$v_y$')\n",
    "        ax.axhline(0, color ='k')\n",
    "        ax.legend()\n",
    "        \n",
    "        # Interpolate the data\n",
    "        f = interp1d(xs, ys, kind='cubic')\n",
    "        xs_int = xs\n",
    "        ys_int = f(xs_int)\n",
    "        \n",
    "        # Trajectory\n",
    "        fig1, ax1 = plt.subplots()\n",
    "        ax1.plot(xs, ys, 'o', label='trajectory')\n",
    "        ax1.plot(xs_int, ys_int, '-')\n",
    "        ax1.axhline(0, color ='k')\n",
    "        ax1.axvline(0, color ='k')\n",
    "        ax1.legend()\n",
    "        ax1.set_aspect('equal')\n",
    "        "
   ]
  },
  {
   "cell_type": "code",
   "execution_count": null,
   "id": "10c4466e",
   "metadata": {},
   "outputs": [],
   "source": [
    "def cartesian_foucault(state):\n",
    "    \"\"\"\n",
    "    Foucault force that is the net combination of gravity and pseudo force experience due to observer located at the location.\n",
    "    \"\"\"\n",
    "    y1, y2, y3, y4 = state\n",
    "    \n",
    "    # force components in polar coordinates.\n",
    "    global MASS\n",
    "    global RADIUS\n",
    "    global LATITUDE\n",
    "    global OMEGA\n",
    "    global GRAVITY\n",
    "    global LENGTH\n",
    "    \n",
    "    m = MASS\n",
    "    R = RADIUS\n",
    "    th = LATITUDE\n",
    "    w = OMEGA\n",
    "    g = GRAVITY\n",
    "    l = LENGTH\n",
    "    \n",
    "    s, c = np.sin(th), np.cos(th)\n",
    "    r_eff = R * s\n",
    "    r_sq = y1**2 + y2**2\n",
    "    \n",
    "    \n",
    "    r_a_r = -1*r_sq/l*(g - r_eff*w**2*s - 2*w*y4*s) + r_eff*w**2*c*y1 + 2*w*(-1*y3*y2 + y4*y1)*c\n",
    "    r_a_th = -1*r_eff*w**2*c*y2 - 2*w*(y3*y1 + y4*y2)*c + w**2*s**2*y1*y2\n",
    "    \n",
    "    a_x = (y1*r_a_r - y2*r_a_th)/r_sq\n",
    "    a_y = (y2*r_a_r + y1*r_a_th)/r_sq\n",
    "    \n",
    "    f_x = m*a_x\n",
    "    f_y = m*a_y\n",
    "    \n",
    "    force = (f_x, f_y)\n",
    "    \n",
    "    return force\n",
    "    "
   ]
  },
  {
   "cell_type": "code",
   "execution_count": null,
   "id": "5a7f14f0",
   "metadata": {},
   "outputs": [],
   "source": [
    "LATITUDE = 0\n",
    "state0 = (10, 0, 0, 0.01)\n",
    "t_span = (0, 6*3600)\n",
    "MIN_TIMESTAMPS = t_span[1]*10\n",
    "cartesian_particle = CartesianParticle(cartesian_foucault, state0, t_span)"
   ]
  },
  {
   "cell_type": "code",
   "execution_count": null,
   "id": "54df8d9f",
   "metadata": {},
   "outputs": [],
   "source": [
    "cartesian_particle.trajectory()"
   ]
  },
  {
   "cell_type": "code",
   "execution_count": null,
   "id": "e76e33f5",
   "metadata": {},
   "outputs": [],
   "source": []
  }
 ],
 "metadata": {
  "kernelspec": {
   "display_name": "Python 3 (ipykernel)",
   "language": "python",
   "name": "python3"
  },
  "language_info": {
   "codemirror_mode": {
    "name": "ipython",
    "version": 3
   },
   "file_extension": ".py",
   "mimetype": "text/x-python",
   "name": "python",
   "nbconvert_exporter": "python",
   "pygments_lexer": "ipython3",
   "version": "3.10.6"
  }
 },
 "nbformat": 4,
 "nbformat_minor": 5
}
